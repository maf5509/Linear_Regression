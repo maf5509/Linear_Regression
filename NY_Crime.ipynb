{
 "cells": [
  {
   "cell_type": "code",
   "execution_count": 628,
   "metadata": {},
   "outputs": [],
   "source": [
    "import pandas as pd\n",
    "import matplotlib.pyplot as plt\n",
    "import seaborn as sns\n",
    "import numpy as np\n",
    "from sklearn import linear_model\n",
    "import math\n",
    "%matplotlib inline\n",
    "pd.options.display.float_format = '{:.3f}'.format\n",
    "\n",
    "#warnings.filterwarnings('ignore')"
   ]
  },
  {
   "cell_type": "code",
   "execution_count": 629,
   "metadata": {
    "collapsed": true
   },
   "outputs": [],
   "source": [
    "df = pd.read_excel('C://Users//fergu//table_8_offenses_known_to_law_enforcement_new_york_by_city_2013 - Copy.xls')"
   ]
  },
  {
   "cell_type": "code",
   "execution_count": 630,
   "metadata": {},
   "outputs": [
    {
     "data": {
      "text/html": [
       "<div>\n",
       "<style>\n",
       "    .dataframe thead tr:only-child th {\n",
       "        text-align: right;\n",
       "    }\n",
       "\n",
       "    .dataframe thead th {\n",
       "        text-align: left;\n",
       "    }\n",
       "\n",
       "    .dataframe tbody tr th {\n",
       "        vertical-align: top;\n",
       "    }\n",
       "</style>\n",
       "<table border=\"1\" class=\"dataframe\">\n",
       "  <thead>\n",
       "    <tr style=\"text-align: right;\">\n",
       "      <th></th>\n",
       "      <th>Adams Village</th>\n",
       "      <th>1861</th>\n",
       "      <th>0</th>\n",
       "      <th>0.1</th>\n",
       "      <th>Unnamed: 4</th>\n",
       "      <th>0.2</th>\n",
       "      <th>0.3</th>\n",
       "      <th>0.4</th>\n",
       "      <th>12</th>\n",
       "      <th>2</th>\n",
       "      <th>10</th>\n",
       "      <th>0.5</th>\n",
       "      <th>0.6</th>\n",
       "    </tr>\n",
       "  </thead>\n",
       "  <tbody>\n",
       "    <tr>\n",
       "      <th>0</th>\n",
       "      <td>Addison Town and Village</td>\n",
       "      <td>2577</td>\n",
       "      <td>3</td>\n",
       "      <td>0</td>\n",
       "      <td>nan</td>\n",
       "      <td>0</td>\n",
       "      <td>0</td>\n",
       "      <td>3</td>\n",
       "      <td>24</td>\n",
       "      <td>3</td>\n",
       "      <td>20</td>\n",
       "      <td>1</td>\n",
       "      <td>0.000</td>\n",
       "    </tr>\n",
       "    <tr>\n",
       "      <th>1</th>\n",
       "      <td>Akron Village</td>\n",
       "      <td>2846</td>\n",
       "      <td>3</td>\n",
       "      <td>0</td>\n",
       "      <td>nan</td>\n",
       "      <td>0</td>\n",
       "      <td>0</td>\n",
       "      <td>3</td>\n",
       "      <td>16</td>\n",
       "      <td>1</td>\n",
       "      <td>15</td>\n",
       "      <td>0</td>\n",
       "      <td>0.000</td>\n",
       "    </tr>\n",
       "    <tr>\n",
       "      <th>2</th>\n",
       "      <td>Albany</td>\n",
       "      <td>97956</td>\n",
       "      <td>791</td>\n",
       "      <td>8</td>\n",
       "      <td>nan</td>\n",
       "      <td>30</td>\n",
       "      <td>227</td>\n",
       "      <td>526</td>\n",
       "      <td>4090</td>\n",
       "      <td>705</td>\n",
       "      <td>3243</td>\n",
       "      <td>142</td>\n",
       "      <td>nan</td>\n",
       "    </tr>\n",
       "    <tr>\n",
       "      <th>3</th>\n",
       "      <td>Albion Village</td>\n",
       "      <td>6388</td>\n",
       "      <td>23</td>\n",
       "      <td>0</td>\n",
       "      <td>nan</td>\n",
       "      <td>3</td>\n",
       "      <td>4</td>\n",
       "      <td>16</td>\n",
       "      <td>223</td>\n",
       "      <td>53</td>\n",
       "      <td>165</td>\n",
       "      <td>5</td>\n",
       "      <td>nan</td>\n",
       "    </tr>\n",
       "    <tr>\n",
       "      <th>4</th>\n",
       "      <td>Alfred Village</td>\n",
       "      <td>4089</td>\n",
       "      <td>5</td>\n",
       "      <td>0</td>\n",
       "      <td>nan</td>\n",
       "      <td>0</td>\n",
       "      <td>3</td>\n",
       "      <td>2</td>\n",
       "      <td>46</td>\n",
       "      <td>10</td>\n",
       "      <td>36</td>\n",
       "      <td>0</td>\n",
       "      <td>nan</td>\n",
       "    </tr>\n",
       "  </tbody>\n",
       "</table>\n",
       "</div>"
      ],
      "text/plain": [
       "              Adams Village   1861    0  0.1  Unnamed: 4  0.2  0.3  0.4    12  \\\n",
       "0  Addison Town and Village   2577    3    0         nan    0    0    3    24   \n",
       "1             Akron Village   2846    3    0         nan    0    0    3    16   \n",
       "2                    Albany  97956  791    8         nan   30  227  526  4090   \n",
       "3            Albion Village   6388   23    0         nan    3    4   16   223   \n",
       "4            Alfred Village   4089    5    0         nan    0    3    2    46   \n",
       "\n",
       "     2    10  0.5   0.6  \n",
       "0    3    20    1 0.000  \n",
       "1    1    15    0 0.000  \n",
       "2  705  3243  142   nan  \n",
       "3   53   165    5   nan  \n",
       "4   10    36    0   nan  "
      ]
     },
     "execution_count": 630,
     "metadata": {},
     "output_type": "execute_result"
    }
   ],
   "source": [
    "df.head()"
   ]
  },
  {
   "cell_type": "code",
   "execution_count": 631,
   "metadata": {},
   "outputs": [
    {
     "data": {
      "text/html": [
       "<div>\n",
       "<style>\n",
       "    .dataframe thead tr:only-child th {\n",
       "        text-align: right;\n",
       "    }\n",
       "\n",
       "    .dataframe thead th {\n",
       "        text-align: left;\n",
       "    }\n",
       "\n",
       "    .dataframe tbody tr th {\n",
       "        vertical-align: top;\n",
       "    }\n",
       "</style>\n",
       "<table border=\"1\" class=\"dataframe\">\n",
       "  <thead>\n",
       "    <tr style=\"text-align: right;\">\n",
       "      <th></th>\n",
       "      <th>city</th>\n",
       "      <th>population</th>\n",
       "      <th>violent</th>\n",
       "      <th>murder</th>\n",
       "      <th>rape1</th>\n",
       "      <th>rape2</th>\n",
       "      <th>robbery</th>\n",
       "      <th>ag_aslt</th>\n",
       "      <th>property</th>\n",
       "      <th>burglary</th>\n",
       "      <th>larce-th</th>\n",
       "      <th>motor_th</th>\n",
       "      <th>arson3</th>\n",
       "    </tr>\n",
       "  </thead>\n",
       "  <tbody>\n",
       "    <tr>\n",
       "      <th>0</th>\n",
       "      <td>Addison Town and Village</td>\n",
       "      <td>2577</td>\n",
       "      <td>3</td>\n",
       "      <td>0</td>\n",
       "      <td>nan</td>\n",
       "      <td>0</td>\n",
       "      <td>0</td>\n",
       "      <td>3</td>\n",
       "      <td>24</td>\n",
       "      <td>3</td>\n",
       "      <td>20</td>\n",
       "      <td>1</td>\n",
       "      <td>0.000</td>\n",
       "    </tr>\n",
       "    <tr>\n",
       "      <th>1</th>\n",
       "      <td>Akron Village</td>\n",
       "      <td>2846</td>\n",
       "      <td>3</td>\n",
       "      <td>0</td>\n",
       "      <td>nan</td>\n",
       "      <td>0</td>\n",
       "      <td>0</td>\n",
       "      <td>3</td>\n",
       "      <td>16</td>\n",
       "      <td>1</td>\n",
       "      <td>15</td>\n",
       "      <td>0</td>\n",
       "      <td>0.000</td>\n",
       "    </tr>\n",
       "    <tr>\n",
       "      <th>2</th>\n",
       "      <td>Albany</td>\n",
       "      <td>97956</td>\n",
       "      <td>791</td>\n",
       "      <td>8</td>\n",
       "      <td>nan</td>\n",
       "      <td>30</td>\n",
       "      <td>227</td>\n",
       "      <td>526</td>\n",
       "      <td>4090</td>\n",
       "      <td>705</td>\n",
       "      <td>3243</td>\n",
       "      <td>142</td>\n",
       "      <td>nan</td>\n",
       "    </tr>\n",
       "    <tr>\n",
       "      <th>3</th>\n",
       "      <td>Albion Village</td>\n",
       "      <td>6388</td>\n",
       "      <td>23</td>\n",
       "      <td>0</td>\n",
       "      <td>nan</td>\n",
       "      <td>3</td>\n",
       "      <td>4</td>\n",
       "      <td>16</td>\n",
       "      <td>223</td>\n",
       "      <td>53</td>\n",
       "      <td>165</td>\n",
       "      <td>5</td>\n",
       "      <td>nan</td>\n",
       "    </tr>\n",
       "    <tr>\n",
       "      <th>4</th>\n",
       "      <td>Alfred Village</td>\n",
       "      <td>4089</td>\n",
       "      <td>5</td>\n",
       "      <td>0</td>\n",
       "      <td>nan</td>\n",
       "      <td>0</td>\n",
       "      <td>3</td>\n",
       "      <td>2</td>\n",
       "      <td>46</td>\n",
       "      <td>10</td>\n",
       "      <td>36</td>\n",
       "      <td>0</td>\n",
       "      <td>nan</td>\n",
       "    </tr>\n",
       "  </tbody>\n",
       "</table>\n",
       "</div>"
      ],
      "text/plain": [
       "                       city  population  violent  murder  rape1  rape2  \\\n",
       "0  Addison Town and Village        2577        3       0    nan      0   \n",
       "1             Akron Village        2846        3       0    nan      0   \n",
       "2                    Albany       97956      791       8    nan     30   \n",
       "3            Albion Village        6388       23       0    nan      3   \n",
       "4            Alfred Village        4089        5       0    nan      0   \n",
       "\n",
       "   robbery  ag_aslt  property  burglary  larce-th  motor_th  arson3  \n",
       "0        0        3        24         3        20         1   0.000  \n",
       "1        0        3        16         1        15         0   0.000  \n",
       "2      227      526      4090       705      3243       142     nan  \n",
       "3        4       16       223        53       165         5     nan  \n",
       "4        3        2        46        10        36         0     nan  "
      ]
     },
     "execution_count": 631,
     "metadata": {},
     "output_type": "execute_result"
    }
   ],
   "source": [
    "df.columns = ['city', 'population', 'violent', 'murder', 'rape1', 'rape2', 'robbery', 'ag_aslt', 'property', 'burglary', 'larce-th', 'motor_th', 'arson3']\n",
    "df.head()"
   ]
  },
  {
   "cell_type": "code",
   "execution_count": 632,
   "metadata": {},
   "outputs": [
    {
     "data": {
      "text/plain": [
       "(347, 13)"
      ]
     },
     "execution_count": 632,
     "metadata": {},
     "output_type": "execute_result"
    }
   ],
   "source": [
    "df.shape"
   ]
  },
  {
   "cell_type": "code",
   "execution_count": 633,
   "metadata": {},
   "outputs": [
    {
     "data": {
      "text/plain": [
       "<matplotlib.collections.PathCollection at 0x1b738663278>"
      ]
     },
     "execution_count": 633,
     "metadata": {},
     "output_type": "execute_result"
    },
    {
     "data": {
      "image/png": "[encoded data removed]",
      "text/plain": [
       "<matplotlib.figure.Figure at 0x1b73879e780>"
      ]
     },
     "metadata": {},
     "output_type": "display_data"
    }
   ],
   "source": [
    "plt.scatter(x='population', y='violent', data=df)"
   ]
  },
  {
   "cell_type": "code",
   "execution_count": 634,
   "metadata": {},
   "outputs": [
    {
     "data": {
      "text/plain": [
       "8396126"
      ]
     },
     "execution_count": 634,
     "metadata": {},
     "output_type": "execute_result"
    }
   ],
   "source": [
    "df.population.max()"
   ]
  },
  {
   "cell_type": "code",
   "execution_count": 635,
   "metadata": {},
   "outputs": [
    {
     "data": {
      "text/plain": [
       "city          New York\n",
       "population     8396126\n",
       "violent          52384\n",
       "murder             335\n",
       "rape1              NaN\n",
       "rape2             1112\n",
       "robbery          19170\n",
       "ag_aslt          31767\n",
       "property        141971\n",
       "burglary         16606\n",
       "larce-th        117931\n",
       "motor_th          7434\n",
       "arson3             NaN\n",
       "Name: 215, dtype: object"
      ]
     },
     "execution_count": 635,
     "metadata": {},
     "output_type": "execute_result"
    }
   ],
   "source": [
    "#df.city[30]\n",
    "list(df['population']).index(8396126)\n",
    "df.iloc[215, :]"
   ]
  },
  {
   "cell_type": "code",
   "execution_count": 636,
   "metadata": {},
   "outputs": [
    {
     "data": {
      "text/plain": [
       "<matplotlib.collections.PathCollection at 0x1b73852acf8>"
      ]
     },
     "execution_count": 636,
     "metadata": {},
     "output_type": "execute_result"
    },
    {
     "data": {
      "image/png": "[encoded data removed]",
      "text/plain": [
       "<matplotlib.figure.Figure at 0x1b738644470>"
      ]
     },
     "metadata": {},
     "output_type": "display_data"
    }
   ],
   "source": [
    "plt.scatter(x='population', y='violent', data=df)"
   ]
  },
  {
   "cell_type": "code",
   "execution_count": 637,
   "metadata": {
    "collapsed": true
   },
   "outputs": [],
   "source": [
    "dfex = df.drop(215, axis=0)"
   ]
  },
  {
   "cell_type": "code",
   "execution_count": 638,
   "metadata": {},
   "outputs": [
    {
     "data": {
      "text/plain": [
       "<matplotlib.collections.PathCollection at 0x1b73803d048>"
      ]
     },
     "execution_count": 638,
     "metadata": {},
     "output_type": "execute_result"
    },
    {
     "data": {
      "image/png": "[encoded data removed]",
      "text/plain": [
       "<matplotlib.figure.Figure at 0x1b7380e2470>"
      ]
     },
     "metadata": {},
     "output_type": "display_data"
    }
   ],
   "source": [
    "plt.scatter(x='population', y='arson3', data=dfex)"
   ]
  },
  {
   "cell_type": "code",
   "execution_count": 639,
   "metadata": {},
   "outputs": [
    {
     "data": {
      "text/plain": [
       "city            0\n",
       "population      0\n",
       "violent         0\n",
       "murder          0\n",
       "rape1         347\n",
       "rape2           0\n",
       "robbery         0\n",
       "ag_aslt         0\n",
       "property        0\n",
       "burglary        0\n",
       "larce-th        0\n",
       "motor_th        0\n",
       "arson3        161\n",
       "dtype: int64"
      ]
     },
     "execution_count": 639,
     "metadata": {},
     "output_type": "execute_result"
    }
   ],
   "source": [
    "df.isnull().sum()"
   ]
  },
  {
   "cell_type": "code",
   "execution_count": 640,
   "metadata": {},
   "outputs": [
    {
     "data": {
      "text/plain": [
       "count   186.000\n",
       "mean      1.882\n",
       "std      10.721\n",
       "min       0.000\n",
       "25%       0.000\n",
       "50%       0.000\n",
       "75%       1.000\n",
       "max     132.000\n",
       "Name: arson3, dtype: float64"
      ]
     },
     "execution_count": 640,
     "metadata": {},
     "output_type": "execute_result"
    }
   ],
   "source": [
    "df.arson3.describe()"
   ]
  },
  {
   "cell_type": "code",
   "execution_count": 641,
   "metadata": {
    "collapsed": true
   },
   "outputs": [],
   "source": [
    "dfex2 = dfex.drop('rape1', axis=1)"
   ]
  },
  {
   "cell_type": "code",
   "execution_count": 642,
   "metadata": {},
   "outputs": [
    {
     "data": {
      "text/html": [
       "<div>\n",
       "<style>\n",
       "    .dataframe thead tr:only-child th {\n",
       "        text-align: right;\n",
       "    }\n",
       "\n",
       "    .dataframe thead th {\n",
       "        text-align: left;\n",
       "    }\n",
       "\n",
       "    .dataframe tbody tr th {\n",
       "        vertical-align: top;\n",
       "    }\n",
       "</style>\n",
       "<table border=\"1\" class=\"dataframe\">\n",
       "  <thead>\n",
       "    <tr style=\"text-align: right;\">\n",
       "      <th></th>\n",
       "      <th>city</th>\n",
       "      <th>population</th>\n",
       "      <th>violent</th>\n",
       "      <th>murder</th>\n",
       "      <th>rape2</th>\n",
       "      <th>robbery</th>\n",
       "      <th>ag_aslt</th>\n",
       "      <th>property</th>\n",
       "      <th>burglary</th>\n",
       "      <th>larce-th</th>\n",
       "      <th>motor_th</th>\n",
       "      <th>arson3</th>\n",
       "    </tr>\n",
       "  </thead>\n",
       "  <tbody>\n",
       "    <tr>\n",
       "      <th>0</th>\n",
       "      <td>Addison Town and Village</td>\n",
       "      <td>2577</td>\n",
       "      <td>3</td>\n",
       "      <td>0</td>\n",
       "      <td>0</td>\n",
       "      <td>0</td>\n",
       "      <td>3</td>\n",
       "      <td>24</td>\n",
       "      <td>3</td>\n",
       "      <td>20</td>\n",
       "      <td>1</td>\n",
       "      <td>0.000</td>\n",
       "    </tr>\n",
       "    <tr>\n",
       "      <th>1</th>\n",
       "      <td>Akron Village</td>\n",
       "      <td>2846</td>\n",
       "      <td>3</td>\n",
       "      <td>0</td>\n",
       "      <td>0</td>\n",
       "      <td>0</td>\n",
       "      <td>3</td>\n",
       "      <td>16</td>\n",
       "      <td>1</td>\n",
       "      <td>15</td>\n",
       "      <td>0</td>\n",
       "      <td>0.000</td>\n",
       "    </tr>\n",
       "    <tr>\n",
       "      <th>2</th>\n",
       "      <td>Albany</td>\n",
       "      <td>97956</td>\n",
       "      <td>791</td>\n",
       "      <td>8</td>\n",
       "      <td>30</td>\n",
       "      <td>227</td>\n",
       "      <td>526</td>\n",
       "      <td>4090</td>\n",
       "      <td>705</td>\n",
       "      <td>3243</td>\n",
       "      <td>142</td>\n",
       "      <td>nan</td>\n",
       "    </tr>\n",
       "    <tr>\n",
       "      <th>3</th>\n",
       "      <td>Albion Village</td>\n",
       "      <td>6388</td>\n",
       "      <td>23</td>\n",
       "      <td>0</td>\n",
       "      <td>3</td>\n",
       "      <td>4</td>\n",
       "      <td>16</td>\n",
       "      <td>223</td>\n",
       "      <td>53</td>\n",
       "      <td>165</td>\n",
       "      <td>5</td>\n",
       "      <td>nan</td>\n",
       "    </tr>\n",
       "    <tr>\n",
       "      <th>4</th>\n",
       "      <td>Alfred Village</td>\n",
       "      <td>4089</td>\n",
       "      <td>5</td>\n",
       "      <td>0</td>\n",
       "      <td>0</td>\n",
       "      <td>3</td>\n",
       "      <td>2</td>\n",
       "      <td>46</td>\n",
       "      <td>10</td>\n",
       "      <td>36</td>\n",
       "      <td>0</td>\n",
       "      <td>nan</td>\n",
       "    </tr>\n",
       "  </tbody>\n",
       "</table>\n",
       "</div>"
      ],
      "text/plain": [
       "                       city  population  violent  murder  rape2  robbery  \\\n",
       "0  Addison Town and Village        2577        3       0      0        0   \n",
       "1             Akron Village        2846        3       0      0        0   \n",
       "2                    Albany       97956      791       8     30      227   \n",
       "3            Albion Village        6388       23       0      3        4   \n",
       "4            Alfred Village        4089        5       0      0        3   \n",
       "\n",
       "   ag_aslt  property  burglary  larce-th  motor_th  arson3  \n",
       "0        3        24         3        20         1   0.000  \n",
       "1        3        16         1        15         0   0.000  \n",
       "2      526      4090       705      3243       142     nan  \n",
       "3       16       223        53       165         5     nan  \n",
       "4        2        46        10        36         0     nan  "
      ]
     },
     "execution_count": 642,
     "metadata": {},
     "output_type": "execute_result"
    }
   ],
   "source": [
    "dfex2.head()"
   ]
  },
  {
   "cell_type": "code",
   "execution_count": 643,
   "metadata": {},
   "outputs": [
    {
     "data": {
      "text/html": [
       "<div>\n",
       "<style>\n",
       "    .dataframe thead tr:only-child th {\n",
       "        text-align: right;\n",
       "    }\n",
       "\n",
       "    .dataframe thead th {\n",
       "        text-align: left;\n",
       "    }\n",
       "\n",
       "    .dataframe tbody tr th {\n",
       "        vertical-align: top;\n",
       "    }\n",
       "</style>\n",
       "<table border=\"1\" class=\"dataframe\">\n",
       "  <thead>\n",
       "    <tr style=\"text-align: right;\">\n",
       "      <th></th>\n",
       "      <th>city</th>\n",
       "      <th>population</th>\n",
       "      <th>violent</th>\n",
       "      <th>murder</th>\n",
       "      <th>rape2</th>\n",
       "      <th>robbery</th>\n",
       "      <th>ag_aslt</th>\n",
       "      <th>property</th>\n",
       "      <th>burglary</th>\n",
       "      <th>larce-th</th>\n",
       "      <th>motor_th</th>\n",
       "      <th>arson3</th>\n",
       "      <th>population^2</th>\n",
       "    </tr>\n",
       "  </thead>\n",
       "  <tbody>\n",
       "    <tr>\n",
       "      <th>0</th>\n",
       "      <td>Addison Town and Village</td>\n",
       "      <td>2577</td>\n",
       "      <td>3</td>\n",
       "      <td>0</td>\n",
       "      <td>0</td>\n",
       "      <td>0</td>\n",
       "      <td>3</td>\n",
       "      <td>24</td>\n",
       "      <td>3</td>\n",
       "      <td>20</td>\n",
       "      <td>1</td>\n",
       "      <td>0.000</td>\n",
       "      <td>6640929</td>\n",
       "    </tr>\n",
       "    <tr>\n",
       "      <th>1</th>\n",
       "      <td>Akron Village</td>\n",
       "      <td>2846</td>\n",
       "      <td>3</td>\n",
       "      <td>0</td>\n",
       "      <td>0</td>\n",
       "      <td>0</td>\n",
       "      <td>3</td>\n",
       "      <td>16</td>\n",
       "      <td>1</td>\n",
       "      <td>15</td>\n",
       "      <td>0</td>\n",
       "      <td>0.000</td>\n",
       "      <td>8099716</td>\n",
       "    </tr>\n",
       "    <tr>\n",
       "      <th>2</th>\n",
       "      <td>Albany</td>\n",
       "      <td>97956</td>\n",
       "      <td>791</td>\n",
       "      <td>8</td>\n",
       "      <td>30</td>\n",
       "      <td>227</td>\n",
       "      <td>526</td>\n",
       "      <td>4090</td>\n",
       "      <td>705</td>\n",
       "      <td>3243</td>\n",
       "      <td>142</td>\n",
       "      <td>nan</td>\n",
       "      <td>9595377936</td>\n",
       "    </tr>\n",
       "    <tr>\n",
       "      <th>3</th>\n",
       "      <td>Albion Village</td>\n",
       "      <td>6388</td>\n",
       "      <td>23</td>\n",
       "      <td>0</td>\n",
       "      <td>3</td>\n",
       "      <td>4</td>\n",
       "      <td>16</td>\n",
       "      <td>223</td>\n",
       "      <td>53</td>\n",
       "      <td>165</td>\n",
       "      <td>5</td>\n",
       "      <td>nan</td>\n",
       "      <td>40806544</td>\n",
       "    </tr>\n",
       "    <tr>\n",
       "      <th>4</th>\n",
       "      <td>Alfred Village</td>\n",
       "      <td>4089</td>\n",
       "      <td>5</td>\n",
       "      <td>0</td>\n",
       "      <td>0</td>\n",
       "      <td>3</td>\n",
       "      <td>2</td>\n",
       "      <td>46</td>\n",
       "      <td>10</td>\n",
       "      <td>36</td>\n",
       "      <td>0</td>\n",
       "      <td>nan</td>\n",
       "      <td>16719921</td>\n",
       "    </tr>\n",
       "  </tbody>\n",
       "</table>\n",
       "</div>"
      ],
      "text/plain": [
       "                       city  population  violent  murder  rape2  robbery  \\\n",
       "0  Addison Town and Village        2577        3       0      0        0   \n",
       "1             Akron Village        2846        3       0      0        0   \n",
       "2                    Albany       97956      791       8     30      227   \n",
       "3            Albion Village        6388       23       0      3        4   \n",
       "4            Alfred Village        4089        5       0      0        3   \n",
       "\n",
       "   ag_aslt  property  burglary  larce-th  motor_th  arson3  population^2  \n",
       "0        3        24         3        20         1   0.000       6640929  \n",
       "1        3        16         1        15         0   0.000       8099716  \n",
       "2      526      4090       705      3243       142     nan    9595377936  \n",
       "3       16       223        53       165         5     nan      40806544  \n",
       "4        2        46        10        36         0     nan      16719921  "
      ]
     },
     "execution_count": 643,
     "metadata": {},
     "output_type": "execute_result"
    }
   ],
   "source": [
    "dfex2['population^2'] = dfex2['population'] * dfex2['population']\n",
    "dfex2.head()"
   ]
  },
  {
   "cell_type": "code",
   "execution_count": 644,
   "metadata": {},
   "outputs": [
    {
     "data": {
      "text/html": [
       "<div>\n",
       "<style>\n",
       "    .dataframe thead tr:only-child th {\n",
       "        text-align: right;\n",
       "    }\n",
       "\n",
       "    .dataframe thead th {\n",
       "        text-align: left;\n",
       "    }\n",
       "\n",
       "    .dataframe tbody tr th {\n",
       "        vertical-align: top;\n",
       "    }\n",
       "</style>\n",
       "<table border=\"1\" class=\"dataframe\">\n",
       "  <thead>\n",
       "    <tr style=\"text-align: right;\">\n",
       "      <th></th>\n",
       "      <th>index</th>\n",
       "      <th>city</th>\n",
       "      <th>population</th>\n",
       "      <th>violent</th>\n",
       "      <th>murder</th>\n",
       "      <th>rape2</th>\n",
       "      <th>robbery</th>\n",
       "      <th>ag_aslt</th>\n",
       "      <th>property</th>\n",
       "      <th>burglary</th>\n",
       "      <th>larce-th</th>\n",
       "      <th>motor_th</th>\n",
       "      <th>arson3</th>\n",
       "      <th>population^2</th>\n",
       "      <th>murder_b</th>\n",
       "      <th>robbery_b</th>\n",
       "      <th>motor_th_b</th>\n",
       "    </tr>\n",
       "  </thead>\n",
       "  <tbody>\n",
       "    <tr>\n",
       "      <th>0</th>\n",
       "      <td>0</td>\n",
       "      <td>Addison Town and Village</td>\n",
       "      <td>2577</td>\n",
       "      <td>3</td>\n",
       "      <td>0</td>\n",
       "      <td>0</td>\n",
       "      <td>0</td>\n",
       "      <td>3</td>\n",
       "      <td>24</td>\n",
       "      <td>3</td>\n",
       "      <td>20</td>\n",
       "      <td>1</td>\n",
       "      <td>0.000</td>\n",
       "      <td>6640929</td>\n",
       "      <td>0</td>\n",
       "      <td>0</td>\n",
       "      <td>1</td>\n",
       "    </tr>\n",
       "    <tr>\n",
       "      <th>1</th>\n",
       "      <td>1</td>\n",
       "      <td>Akron Village</td>\n",
       "      <td>2846</td>\n",
       "      <td>3</td>\n",
       "      <td>0</td>\n",
       "      <td>0</td>\n",
       "      <td>0</td>\n",
       "      <td>3</td>\n",
       "      <td>16</td>\n",
       "      <td>1</td>\n",
       "      <td>15</td>\n",
       "      <td>0</td>\n",
       "      <td>0.000</td>\n",
       "      <td>8099716</td>\n",
       "      <td>0</td>\n",
       "      <td>0</td>\n",
       "      <td>0</td>\n",
       "    </tr>\n",
       "    <tr>\n",
       "      <th>2</th>\n",
       "      <td>2</td>\n",
       "      <td>Albany</td>\n",
       "      <td>97956</td>\n",
       "      <td>791</td>\n",
       "      <td>8</td>\n",
       "      <td>30</td>\n",
       "      <td>227</td>\n",
       "      <td>526</td>\n",
       "      <td>4090</td>\n",
       "      <td>705</td>\n",
       "      <td>3243</td>\n",
       "      <td>142</td>\n",
       "      <td>nan</td>\n",
       "      <td>9595377936</td>\n",
       "      <td>1</td>\n",
       "      <td>1</td>\n",
       "      <td>1</td>\n",
       "    </tr>\n",
       "    <tr>\n",
       "      <th>3</th>\n",
       "      <td>3</td>\n",
       "      <td>Albion Village</td>\n",
       "      <td>6388</td>\n",
       "      <td>23</td>\n",
       "      <td>0</td>\n",
       "      <td>3</td>\n",
       "      <td>4</td>\n",
       "      <td>16</td>\n",
       "      <td>223</td>\n",
       "      <td>53</td>\n",
       "      <td>165</td>\n",
       "      <td>5</td>\n",
       "      <td>nan</td>\n",
       "      <td>40806544</td>\n",
       "      <td>0</td>\n",
       "      <td>1</td>\n",
       "      <td>1</td>\n",
       "    </tr>\n",
       "    <tr>\n",
       "      <th>4</th>\n",
       "      <td>4</td>\n",
       "      <td>Alfred Village</td>\n",
       "      <td>4089</td>\n",
       "      <td>5</td>\n",
       "      <td>0</td>\n",
       "      <td>0</td>\n",
       "      <td>3</td>\n",
       "      <td>2</td>\n",
       "      <td>46</td>\n",
       "      <td>10</td>\n",
       "      <td>36</td>\n",
       "      <td>0</td>\n",
       "      <td>nan</td>\n",
       "      <td>16719921</td>\n",
       "      <td>0</td>\n",
       "      <td>1</td>\n",
       "      <td>0</td>\n",
       "    </tr>\n",
       "  </tbody>\n",
       "</table>\n",
       "</div>"
      ],
      "text/plain": [
       "   index                      city  population  violent  murder  rape2  \\\n",
       "0      0  Addison Town and Village        2577        3       0      0   \n",
       "1      1             Akron Village        2846        3       0      0   \n",
       "2      2                    Albany       97956      791       8     30   \n",
       "3      3            Albion Village        6388       23       0      3   \n",
       "4      4            Alfred Village        4089        5       0      0   \n",
       "\n",
       "   robbery  ag_aslt  property  burglary  larce-th  motor_th  arson3  \\\n",
       "0        0        3        24         3        20         1   0.000   \n",
       "1        0        3        16         1        15         0   0.000   \n",
       "2      227      526      4090       705      3243       142     nan   \n",
       "3        4       16       223        53       165         5     nan   \n",
       "4        3        2        46        10        36         0     nan   \n",
       "\n",
       "   population^2  murder_b  robbery_b  motor_th_b  \n",
       "0       6640929         0          0           1  \n",
       "1       8099716         0          0           0  \n",
       "2    9595377936         1          1           1  \n",
       "3      40806544         0          1           1  \n",
       "4      16719921         0          1           0  "
      ]
     },
     "execution_count": 644,
     "metadata": {},
     "output_type": "execute_result"
    }
   ],
   "source": [
    "dfex2.reset_index(inplace=True)\n",
    "dfex2['murder_b'] = [1 if dfex2['murder'][i] > 0 else 0 for i in range(0, len(dfex2['murder']))]\n",
    "dfex2['robbery_b'] = [1 if dfex2['robbery'][i] > 0 else 0 for i in range(0, len(dfex2['robbery']))]\n",
    "dfex2['motor_th_b'] = [1 if dfex2['motor_th'][i] > 0 else 0 for i in range(0, len(dfex2['motor_th']))]\n",
    "dfex2.head()"
   ]
  },
  {
   "cell_type": "markdown",
   "metadata": {},
   "source": [
    "### Create model initially using suggested variables\n",
    "\n",
    "The starting point for this analysis will be the variables given in binary form."
   ]
  },
  {
   "cell_type": "code",
   "execution_count": 645,
   "metadata": {},
   "outputs": [
    {
     "name": "stdout",
     "output_type": "stream",
     "text": [
      "Coefficients \n",
      " [[  1.70372198e-07   3.62939794e+02   1.85431131e+02   7.31395653e+01]]\n",
      "Intercept \n",
      " [ 2.87366338]\n",
      "R-squared:  0.828970689783\n"
     ]
    }
   ],
   "source": [
    "regr = linear_model.LinearRegression()\n",
    "Y = dfex2['property'].values.reshape(-1,1)\n",
    "x = ['population^2', 'murder_b', 'robbery_b', 'motor_th_b']\n",
    "X = dfex2[x]\n",
    "regr.fit(X, Y)\n",
    "\n",
    "print('Coefficients \\n', regr.coef_)\n",
    "print('Intercept \\n', regr.intercept_)\n",
    "print('R-squared: ', regr.score(X, Y))"
   ]
  },
  {
   "cell_type": "code",
   "execution_count": 646,
   "metadata": {
    "collapsed": true
   },
   "outputs": [],
   "source": [
    "### Use linear population, non-binary input variables:"
   ]
  },
  {
   "cell_type": "code",
   "execution_count": 647,
   "metadata": {},
   "outputs": [
    {
     "name": "stdout",
     "output_type": "stream",
     "text": [
      "Coefficients \n",
      " [[  1.36803292e-02   9.30858464e+01  -4.64084591e+00   1.15210115e+01]]\n",
      "Intercept \n",
      " [ 26.12504215]\n",
      "R-squared:  0.941678948136\n"
     ]
    }
   ],
   "source": [
    "regr = linear_model.LinearRegression()\n",
    "Y = dfex2['property'].values.reshape(-1,1)\n",
    "x = ['population', 'murder', 'robbery', 'motor_th']\n",
    "X = dfex2[x]\n",
    "regr.fit(X, Y)\n",
    "\n",
    "print('Coefficients \\n', regr.coef_)\n",
    "print('Intercept \\n', regr.intercept_)\n",
    "print('R-squared: ', regr.score(X, Y))"
   ]
  },
  {
   "cell_type": "code",
   "execution_count": 648,
   "metadata": {},
   "outputs": [
    {
     "name": "stdout",
     "output_type": "stream",
     "text": [
      "Coefficients \n",
      " [[  5.46060733e-08   4.54327285e+00   7.55065193e+00  -5.99936539e+00]]\n",
      "Intercept \n",
      " [ 84.50248216]\n",
      "R-squared:  0.964784727114\n"
     ]
    }
   ],
   "source": [
    "Y = dfex2['property'].values.reshape(-1,1)\n",
    "x = ['population^2', 'burglary', 'ag_aslt', 'violent']\n",
    "X = dfex2[x]\n",
    "regr.fit(X, Y)\n",
    "\n",
    "print('Coefficients \\n', regr.coef_)\n",
    "print('Intercept \\n', regr.intercept_)\n",
    "print('R-squared: ', regr.score(X, Y))"
   ]
  },
  {
   "cell_type": "markdown",
   "metadata": {},
   "source": [
    "### Settle on this combination of variables:"
   ]
  },
  {
   "cell_type": "code",
   "execution_count": 649,
   "metadata": {},
   "outputs": [
    {
     "name": "stdout",
     "output_type": "stream",
     "text": [
      "Coefficients \n",
      " [[  1.94251531e-04   1.75869022e-01   9.85761449e-01   1.11712715e+00]]\n",
      "Intercept \n",
      " [-1.7212384]\n",
      "R-squared:  0.999919720096\n"
     ]
    }
   ],
   "source": [
    "regr = linear_model.LinearRegression()\n",
    "Y = dfex2['property'].values.reshape(-1,1)\n",
    "x = ['population', 'violent', 'larce-th', 'burglary']\n",
    "X = dfex2[x]\n",
    "regr.fit(X, Y)\n",
    "\n",
    "print('Coefficients \\n', regr.coef_)\n",
    "print('Intercept \\n', regr.intercept_)\n",
    "print('R-squared: ', regr.score(X, Y))"
   ]
  },
  {
   "cell_type": "markdown",
   "metadata": {},
   "source": [
    "### Create binary variables for these and try those also"
   ]
  },
  {
   "cell_type": "code",
   "execution_count": 650,
   "metadata": {},
   "outputs": [],
   "source": [
    "dfex2.reset_index(inplace=True)\n",
    "dfex2['violent_b'] = [1 if dfex2['violent'][i] > 0 else 0 for i in range(0, len(dfex2['violent']))]\n",
    "dfex2['larce-th_b'] = [1 if dfex2['larce-th'][i] > 0 else 0 for i in range(0, len(dfex2['larce-th']))]\n",
    "dfex2['burglary_b'] = [1 if dfex2['burglary'][i] > 0 else 0 for i in range(0, len(dfex2['burglary']))]"
   ]
  },
  {
   "cell_type": "code",
   "execution_count": 651,
   "metadata": {},
   "outputs": [
    {
     "name": "stdout",
     "output_type": "stream",
     "text": [
      "Coefficients \n",
      " [[  3.41853966e-02  -7.55122925e+01   1.65614048e+01  -8.48321293e+01]]\n",
      "Intercept \n",
      " [-31.98882136]\n",
      "R-squared:  0.788458133036\n"
     ]
    }
   ],
   "source": [
    "Y = dfex2['property'].values.reshape(-1,1)\n",
    "x = ['population', 'violent_b', 'larce-th_b', 'burglary_b']\n",
    "X = dfex2[x]\n",
    "regr.fit(X, Y)\n",
    "\n",
    "print('Coefficients \\n', regr.coef_)\n",
    "print('Intercept \\n', regr.intercept_)\n",
    "print('R-squared: ', regr.score(X, Y))"
   ]
  },
  {
   "cell_type": "markdown",
   "metadata": {},
   "source": [
    "### Final choice: Population, Violent Crime, Larceny-Theft, Burglary "
   ]
  },
  {
   "cell_type": "markdown",
   "metadata": {},
   "source": [
    "The previous set of variables gave a very high R-Squared value. Now to test this model for validity according to the main assumptions of multi-variable linear regression: linear variation, multivariate normality, homoscedasticity, and low multi-collinearity. "
   ]
  },
  {
   "cell_type": "markdown",
   "metadata": {},
   "source": [
    "1a. NYC property crime\n",
    "\n"
   ]
  },
  {
   "cell_type": "code",
   "execution_count": 652,
   "metadata": {},
   "outputs": [
    {
     "data": {
      "text/plain": [
       "141971"
      ]
     },
     "execution_count": 652,
     "metadata": {},
     "output_type": "execute_result"
    }
   ],
   "source": [
    "NYC_values = df.loc[215, ['population','violent', 'larce-th', 'burglary']]\n",
    "NYC_actual = df.loc[215, 'property']\n",
    "NYC_actual\n",
    "#NYC_predicted = regr.predict(NYC_values).reshape(1,-1)\n",
    "\n",
    "#print('The predicted level of property crime in NYC based on the model is {}, whereas the actual number is {}'.format(NYC_predicted, NYC_actual))"
   ]
  },
  {
   "cell_type": "markdown",
   "metadata": {},
   "source": [
    "#### 1. Linear variation\n",
    "The below plots clearly show that the assumption of a linear relationship between each of the input variables and the outcome variable is a valid one. "
   ]
  },
  {
   "cell_type": "code",
   "execution_count": 653,
   "metadata": {},
   "outputs": [
    {
     "data": {
      "image/png": "[encoded data removed]",
      "text/plain": [
       "<matplotlib.figure.Figure at 0x1b73818e6d8>"
      ]
     },
     "metadata": {},
     "output_type": "display_data"
    },
    {
     "data": {
      "image/png": "[encoded data removed]",
      "text/plain": [
       "<matplotlib.figure.Figure at 0x1b738102f98>"
      ]
     },
     "metadata": {},
     "output_type": "display_data"
    },
    {
     "data": {
      "image/png": "[encoded data removed]",
      "text/plain": [
       "<matplotlib.figure.Figure at 0x1b734fbb518>"
      ]
     },
     "metadata": {},
     "output_type": "display_data"
    }
   ],
   "source": [
    "x = ['population', 'violent', 'larce-th', 'burglary']\n",
    "X = dfex2[x]\n",
    "for i in range(1, len(x)):\n",
    "    plt.subplot(1,3,i)\n",
    "    plt.scatter(dfex2[x[i]], Y)\n",
    "    plt.xlabel(x[i])\n",
    "    plt.ylabel('property')\n",
    "    plt.title('vs. raw ' + x[i])\n",
    "    plt.show()"
   ]
  },
  {
   "cell_type": "markdown",
   "metadata": {},
   "source": [
    "#### 2. Multivariate normality"
   ]
  },
  {
   "cell_type": "code",
   "execution_count": 654,
   "metadata": {},
   "outputs": [
    {
     "data": {
      "image/png": "[encoded data removed]",
      "text/plain": [
       "<matplotlib.figure.Figure at 0x1b737edf278>"
      ]
     },
     "metadata": {},
     "output_type": "display_data"
    }
   ],
   "source": [
    "predicted = regr.predict(X).ravel()\n",
    "actual = dfex2['property']\n",
    "residual = actual - predicted\n",
    "\n",
    "plt.hist(residual)\n",
    "plt.title('Residual counts')\n",
    "plt.xlabel('Residual')\n",
    "plt.ylabel('Count')\n",
    "plt.show()"
   ]
  },
  {
   "cell_type": "markdown",
   "metadata": {},
   "source": [
    "Clearly the distribution of errors is non-normal. So we re-run the model using log input variables and log outcome variable, as shown below:"
   ]
  },
  {
   "cell_type": "code",
   "execution_count": 655,
   "metadata": {},
   "outputs": [],
   "source": [
    "dfex3 = dfex2.copy()\n",
    "# Since some of the values are zero, we must convert the zeros to v. small nos:\n",
    "for col in dfex2.columns:\n",
    "    dfex3[col]= [2.718 if dfex3[col][i] == 0 else dfex3[col][i] for i in range(0, len(dfex3[col]))]"
   ]
  },
  {
   "cell_type": "code",
   "execution_count": 656,
   "metadata": {},
   "outputs": [
    {
     "data": {
      "text/html": [
       "<div>\n",
       "<style>\n",
       "    .dataframe thead tr:only-child th {\n",
       "        text-align: right;\n",
       "    }\n",
       "\n",
       "    .dataframe thead th {\n",
       "        text-align: left;\n",
       "    }\n",
       "\n",
       "    .dataframe tbody tr th {\n",
       "        vertical-align: top;\n",
       "    }\n",
       "</style>\n",
       "<table border=\"1\" class=\"dataframe\">\n",
       "  <thead>\n",
       "    <tr style=\"text-align: right;\">\n",
       "      <th></th>\n",
       "      <th>level_0</th>\n",
       "      <th>index</th>\n",
       "      <th>city</th>\n",
       "      <th>population</th>\n",
       "      <th>violent</th>\n",
       "      <th>murder</th>\n",
       "      <th>rape2</th>\n",
       "      <th>robbery</th>\n",
       "      <th>ag_aslt</th>\n",
       "      <th>property</th>\n",
       "      <th>...</th>\n",
       "      <th>robbery_b</th>\n",
       "      <th>motor_th_b</th>\n",
       "      <th>violent_b</th>\n",
       "      <th>larce-th_b</th>\n",
       "      <th>burglary_b</th>\n",
       "      <th>violent_log</th>\n",
       "      <th>larce-th_log</th>\n",
       "      <th>burglary_log</th>\n",
       "      <th>pop_log</th>\n",
       "      <th>property_log</th>\n",
       "    </tr>\n",
       "  </thead>\n",
       "  <tbody>\n",
       "    <tr>\n",
       "      <th>0</th>\n",
       "      <td>2.718</td>\n",
       "      <td>2.718</td>\n",
       "      <td>Addison Town and Village</td>\n",
       "      <td>2577</td>\n",
       "      <td>3.000</td>\n",
       "      <td>2.718</td>\n",
       "      <td>2.718</td>\n",
       "      <td>2.718</td>\n",
       "      <td>3.000</td>\n",
       "      <td>24.000</td>\n",
       "      <td>...</td>\n",
       "      <td>2.718</td>\n",
       "      <td>1.000</td>\n",
       "      <td>1.000</td>\n",
       "      <td>1.000</td>\n",
       "      <td>1.000</td>\n",
       "      <td>1.099</td>\n",
       "      <td>2.996</td>\n",
       "      <td>1.099</td>\n",
       "      <td>7.854</td>\n",
       "      <td>3.178</td>\n",
       "    </tr>\n",
       "  </tbody>\n",
       "</table>\n",
       "<p>1 rows × 26 columns</p>\n",
       "</div>"
      ],
      "text/plain": [
       "   level_0  index                      city  population  violent  murder  \\\n",
       "0    2.718  2.718  Addison Town and Village        2577    3.000   2.718   \n",
       "\n",
       "   rape2  robbery  ag_aslt  property      ...       robbery_b  motor_th_b  \\\n",
       "0  2.718    2.718    3.000    24.000      ...           2.718       1.000   \n",
       "\n",
       "   violent_b  larce-th_b  burglary_b  violent_log  larce-th_log  burglary_log  \\\n",
       "0      1.000       1.000       1.000        1.099         2.996         1.099   \n",
       "\n",
       "   pop_log  property_log  \n",
       "0    7.854         3.178  \n",
       "\n",
       "[1 rows x 26 columns]"
      ]
     },
     "execution_count": 656,
     "metadata": {},
     "output_type": "execute_result"
    }
   ],
   "source": [
    "# Define the log columns:\n",
    "\n",
    "dfex3['violent_log'] = [np.log(dfex3['violent'][i]) for i in range(0, len(dfex3['violent']))]\n",
    "dfex3['larce-th_log'] = [np.log(dfex3['larce-th'][i]) for i in range(0, len(dfex3['larce-th']))]\n",
    "dfex3['burglary_log'] = [np.log(dfex3['burglary'][i]) for i in range(0, len(dfex3['burglary']))]\n",
    "dfex3['pop_log'] = [np.log(dfex3['population'][i]) for i in range(0, len(dfex3['population']))]\n",
    "dfex3['property_log'] = [np.log(dfex3['property'][i]) for i in range(0, len(dfex3['property']))]\n",
    "dfex3.head(1)"
   ]
  },
  {
   "cell_type": "markdown",
   "metadata": {},
   "source": [
    "##### Re-run the model for the log variables"
   ]
  },
  {
   "cell_type": "code",
   "execution_count": 657,
   "metadata": {},
   "outputs": [
    {
     "name": "stdout",
     "output_type": "stream",
     "text": [
      "Coefficients \n",
      " [[-0.00321574 -0.02625507  0.90793993  0.14121834]]\n",
      "Intercept \n",
      " [ 0.29797293]\n",
      "R-squared:  0.994800918678\n"
     ]
    }
   ],
   "source": [
    "Y2 = dfex3['property_log'].values.reshape(-1,1)\n",
    "x2 = ['pop_log', 'violent_log', 'larce-th_log', 'burglary_log']\n",
    "X2 = dfex3[x2]\n",
    "regr.fit(X2, Y2)\n",
    "\n",
    "print('Coefficients \\n', regr.coef_)\n",
    "print('Intercept \\n', regr.intercept_)\n",
    "print('R-squared: ', regr.score(X2, Y2))"
   ]
  },
  {
   "cell_type": "markdown",
   "metadata": {},
   "source": [
    "Repeating this with the log values does not seem to help:"
   ]
  },
  {
   "cell_type": "code",
   "execution_count": 658,
   "metadata": {},
   "outputs": [
    {
     "data": {
      "image/png": "[encoded data removed]",
      "text/plain": [
       "<matplotlib.figure.Figure at 0x1b736a87e80>"
      ]
     },
     "metadata": {},
     "output_type": "display_data"
    }
   ],
   "source": [
    "predicted2 = regr.predict(X2).ravel()\n",
    "actual2 = dfex3['property_log']\n",
    "residual2 = actual - predicted\n",
    "\n",
    "plt.hist(residual)\n",
    "plt.title('Residual counts')\n",
    "plt.xlabel('Residual')\n",
    "plt.ylabel('Count')\n",
    "plt.show()"
   ]
  },
  {
   "cell_type": "markdown",
   "metadata": {},
   "source": [
    "#### 3. Homoscedasticity\n",
    "\n",
    "The below shows a highly heteroscedastic error distribution for the raw error values."
   ]
  },
  {
   "cell_type": "code",
   "execution_count": 659,
   "metadata": {},
   "outputs": [
    {
     "data": {
      "image/png": "[encoded data removed]",
      "text/plain": [
       "<matplotlib.figure.Figure at 0x1b73682e9b0>"
      ]
     },
     "metadata": {},
     "output_type": "display_data"
    }
   ],
   "source": [
    "plt.scatter(predicted, residual)\n",
    "plt.xlabel('Predicted')\n",
    "plt.ylabel('Residual')\n",
    "plt.axhline(y=0)\n",
    "plt.title('Residual vs. Predicted')\n",
    "plt.show()"
   ]
  },
  {
   "cell_type": "markdown",
   "metadata": {},
   "source": [
    "##### Try heteroscedasticity plot for log values\n",
    "\n",
    "This also does not seem to have helped:"
   ]
  },
  {
   "cell_type": "code",
   "execution_count": 660,
   "metadata": {},
   "outputs": [
    {
     "data": {
      "image/png": "[encoded data removed]",
      "text/plain": [
       "<matplotlib.figure.Figure at 0x1b738356518>"
      ]
     },
     "metadata": {},
     "output_type": "display_data"
    }
   ],
   "source": [
    "plt.scatter(predicted2, residual2)\n",
    "plt.xlabel('Predicted')\n",
    "plt.ylabel('Residual')\n",
    "plt.axhline(y=0)\n",
    "plt.title('Residual vs. Predicted (for log values)')\n",
    "plt.show()"
   ]
  },
  {
   "cell_type": "markdown",
   "metadata": {},
   "source": [
    "#### 4. Low multi-collinearity\n",
    "CLearly the chosen output variables have a high degree of inter-correlation. However, the main aim of this exercise is the generate a predictive model, without regard for explaining the model or which of its parts are most influential on the outcome."
   ]
  },
  {
   "cell_type": "code",
   "execution_count": 661,
   "metadata": {},
   "outputs": [
    {
     "data": {
      "text/html": [
       "<div>\n",
       "<style>\n",
       "    .dataframe thead tr:only-child th {\n",
       "        text-align: right;\n",
       "    }\n",
       "\n",
       "    .dataframe thead th {\n",
       "        text-align: left;\n",
       "    }\n",
       "\n",
       "    .dataframe tbody tr th {\n",
       "        vertical-align: top;\n",
       "    }\n",
       "</style>\n",
       "<table border=\"1\" class=\"dataframe\">\n",
       "  <thead>\n",
       "    <tr style=\"text-align: right;\">\n",
       "      <th></th>\n",
       "      <th>population</th>\n",
       "      <th>violent</th>\n",
       "      <th>larce-th</th>\n",
       "      <th>burglary</th>\n",
       "    </tr>\n",
       "  </thead>\n",
       "  <tbody>\n",
       "    <tr>\n",
       "      <th>population</th>\n",
       "      <td>1.000</td>\n",
       "      <td>0.830</td>\n",
       "      <td>0.901</td>\n",
       "      <td>0.820</td>\n",
       "    </tr>\n",
       "    <tr>\n",
       "      <th>violent</th>\n",
       "      <td>0.830</td>\n",
       "      <td>1.000</td>\n",
       "      <td>0.913</td>\n",
       "      <td>0.971</td>\n",
       "    </tr>\n",
       "    <tr>\n",
       "      <th>larce-th</th>\n",
       "      <td>0.901</td>\n",
       "      <td>0.913</td>\n",
       "      <td>1.000</td>\n",
       "      <td>0.950</td>\n",
       "    </tr>\n",
       "    <tr>\n",
       "      <th>burglary</th>\n",
       "      <td>0.820</td>\n",
       "      <td>0.971</td>\n",
       "      <td>0.950</td>\n",
       "      <td>1.000</td>\n",
       "    </tr>\n",
       "  </tbody>\n",
       "</table>\n",
       "</div>"
      ],
      "text/plain": [
       "            population  violent  larce-th  burglary\n",
       "population       1.000    0.830     0.901     0.820\n",
       "violent          0.830    1.000     0.913     0.971\n",
       "larce-th         0.901    0.913     1.000     0.950\n",
       "burglary         0.820    0.971     0.950     1.000"
      ]
     },
     "execution_count": 661,
     "metadata": {},
     "output_type": "execute_result"
    }
   ],
   "source": [
    "corrmat = X.corr()\n",
    "corrmat"
   ]
  },
  {
   "cell_type": "markdown",
   "metadata": {},
   "source": [
    "##### Try again using log values\n",
    "\n",
    "Clearly here there is a lower level of correlation for the log values, so the log-based model is preferable here."
   ]
  },
  {
   "cell_type": "code",
   "execution_count": 662,
   "metadata": {},
   "outputs": [
    {
     "data": {
      "text/html": [
       "<div>\n",
       "<style>\n",
       "    .dataframe thead tr:only-child th {\n",
       "        text-align: right;\n",
       "    }\n",
       "\n",
       "    .dataframe thead th {\n",
       "        text-align: left;\n",
       "    }\n",
       "\n",
       "    .dataframe tbody tr th {\n",
       "        vertical-align: top;\n",
       "    }\n",
       "</style>\n",
       "<table border=\"1\" class=\"dataframe\">\n",
       "  <thead>\n",
       "    <tr style=\"text-align: right;\">\n",
       "      <th></th>\n",
       "      <th>pop_log</th>\n",
       "      <th>violent_log</th>\n",
       "      <th>larce-th_log</th>\n",
       "      <th>burglary_log</th>\n",
       "    </tr>\n",
       "  </thead>\n",
       "  <tbody>\n",
       "    <tr>\n",
       "      <th>pop_log</th>\n",
       "      <td>1.000</td>\n",
       "      <td>0.771</td>\n",
       "      <td>0.863</td>\n",
       "      <td>0.835</td>\n",
       "    </tr>\n",
       "    <tr>\n",
       "      <th>violent_log</th>\n",
       "      <td>0.771</td>\n",
       "      <td>1.000</td>\n",
       "      <td>0.799</td>\n",
       "      <td>0.867</td>\n",
       "    </tr>\n",
       "    <tr>\n",
       "      <th>larce-th_log</th>\n",
       "      <td>0.863</td>\n",
       "      <td>0.799</td>\n",
       "      <td>1.000</td>\n",
       "      <td>0.906</td>\n",
       "    </tr>\n",
       "    <tr>\n",
       "      <th>burglary_log</th>\n",
       "      <td>0.835</td>\n",
       "      <td>0.867</td>\n",
       "      <td>0.906</td>\n",
       "      <td>1.000</td>\n",
       "    </tr>\n",
       "  </tbody>\n",
       "</table>\n",
       "</div>"
      ],
      "text/plain": [
       "              pop_log  violent_log  larce-th_log  burglary_log\n",
       "pop_log         1.000        0.771         0.863         0.835\n",
       "violent_log     0.771        1.000         0.799         0.867\n",
       "larce-th_log    0.863        0.799         1.000         0.906\n",
       "burglary_log    0.835        0.867         0.906         1.000"
      ]
     },
     "execution_count": 662,
     "metadata": {},
     "output_type": "execute_result"
    }
   ],
   "source": [
    "corrmat2 = X2.corr()\n",
    "corrmat2"
   ]
  },
  {
   "cell_type": "code",
   "execution_count": null,
   "metadata": {
    "collapsed": true
   },
   "outputs": [],
   "source": []
  }
 ],
 "metadata": {
  "kernelspec": {
   "display_name": "Python 3",
   "language": "python",
   "name": "python3"
  },
  "language_info": {
   "codemirror_mode": {
    "name": "ipython",
    "version": 3
   },
   "file_extension": ".py",
   "mimetype": "text/x-python",
   "name": "python",
   "nbconvert_exporter": "python",
   "pygments_lexer": "ipython3",
   "version": "3.6.2"
  }
 },
 "nbformat": 4,
 "nbformat_minor": 2
}
